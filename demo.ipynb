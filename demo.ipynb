{
 "cells": [
  {
   "cell_type": "code",
   "execution_count": 1,
   "metadata": {},
   "outputs": [],
   "source": [
    "from RGBD_XYZ.rgb_xy import *\n",
    "from RGBD_XYZ.xyd_xyz import *\n",
    "import numpy as np\n",
    "import matplotlib.pyplot as plt"
   ]
  },
  {
   "cell_type": "code",
   "execution_count": 2,
   "metadata": {},
   "outputs": [
    {
     "name": "stdout",
     "output_type": "stream",
     "text": [
      "MyLoss\n"
     ]
    }
   ],
   "source": [
    "rgb2xy = rgb_xy()\n",
    "xyd2xyz = xyd_xyz()\n",
    "def img2xyz(rgb, dep):\n",
    "    xy = rgb2xy.detect(rgb)\n",
    "    x = xy[0].astype(np.int32)\n",
    "    y = xy[1].astype(np.int32)\n",
    "    # get xy for image\n",
    "    xyd = np.concatenate((xy, np.array(dep[x][y][:1])), axis=0)\n",
    "    # get depth for dep\n",
    "#     plt.imshow(rgb)\n",
    "#     print(xyd)\n",
    "    xyz = xyd2xyz.detect(xyd)\n",
    "    # get the xyz in the space\n",
    "#     print(xyz)\n",
    "    return xyz"
   ]
  },
  {
   "cell_type": "code",
   "execution_count": 3,
   "metadata": {},
   "outputs": [
    {
     "name": "stderr",
     "output_type": "stream",
     "text": [
      "d:\\annaconda\\envs\\pytorch\\lib\\site-packages\\torch\\nn\\modules\\upsampling.py:129: UserWarning: nn.Upsample is deprecated. Use nn.functional.interpolate instead.\n",
      "  warnings.warn(\"nn.{} is deprecated. Use nn.functional.interpolate instead.\".format(self.name))\n",
      "d:\\annaconda\\envs\\pytorch\\lib\\site-packages\\torch\\nn\\functional.py:1332: UserWarning: nn.functional.sigmoid is deprecated. Use torch.sigmoid instead.\n",
      "  warnings.warn(\"nn.functional.sigmoid is deprecated. Use torch.sigmoid instead.\")\n"
     ]
    },
    {
     "data": {
      "text/plain": [
       "array([[0.5301885, 0.2018118, 0.7484169]], dtype=float32)"
      ]
     },
     "execution_count": 3,
     "metadata": {},
     "output_type": "execute_result"
    }
   ],
   "source": [
    "# ----- test ----\n",
    "rgb, dep = read_img_dep(\"[0.5513610201719624, 0.1887571504509108, 0.75]\")\n",
    "# ----- test ----\n",
    "img2xyz(rgb, dep)"
   ]
  },
  {
   "cell_type": "code",
   "execution_count": 4,
   "metadata": {},
   "outputs": [
    {
     "name": "stdout",
     "output_type": "stream",
     "text": [
      "[0.7411835697053846, -0.2628055284125354, 0.75]\n"
     ]
    }
   ],
   "source": [
    "import os\n",
    "import numpy as np\n",
    "file_name = []\n",
    "for root, dirs, files in os.walk(\"D:/images/images/rgb/\", topdown=False):\n",
    "        file_name = files\n",
    "print(file_name[np.random.randint(1, 99999)][:-4])"
   ]
  },
  {
   "cell_type": "code",
   "execution_count": 8,
   "metadata": {},
   "outputs": [
    {
     "ename": "ModuleNotFoundError",
     "evalue": "No module named 'fetch_moveit_config'",
     "output_type": "error",
     "traceback": [
      "\u001b[1;31m---------------------------------------------------------------------------\u001b[0m",
      "\u001b[1;31mModuleNotFoundError\u001b[0m                       Traceback (most recent call last)",
      "\u001b[1;32m<ipython-input-8-ef0777041540>\u001b[0m in \u001b[0;36m<module>\u001b[1;34m\u001b[0m\n\u001b[0;32m      8\u001b[0m \u001b[1;31m# Box_position = [-0.04604054586892892, 0.08798244770703123, -0.11748548030476458]\u001b[0m\u001b[1;33m\u001b[0m\u001b[1;33m\u001b[0m\u001b[0m\n\u001b[0;32m      9\u001b[0m \u001b[0mrl\u001b[0m \u001b[1;33m=\u001b[0m \u001b[0mDDPG\u001b[0m\u001b[1;33m(\u001b[0m\u001b[1;33m)\u001b[0m\u001b[1;33m\u001b[0m\u001b[0m\n\u001b[1;32m---> 10\u001b[1;33m \u001b[0mrl\u001b[0m\u001b[1;33m.\u001b[0m\u001b[0mload_model\u001b[0m\u001b[1;33m(\u001b[0m\u001b[1;33m)\u001b[0m\u001b[1;33m\u001b[0m\u001b[0m\n\u001b[0m\u001b[0;32m     11\u001b[0m \u001b[0mprint\u001b[0m\u001b[1;33m(\u001b[0m\u001b[0mBox_position\u001b[0m\u001b[1;33m)\u001b[0m\u001b[1;33m\u001b[0m\u001b[0m\n\u001b[0;32m     12\u001b[0m \u001b[0mvar\u001b[0m \u001b[1;33m=\u001b[0m \u001b[1;36m0.0\u001b[0m\u001b[1;33m\u001b[0m\u001b[0m\n",
      "\u001b[1;32mD:\\GitDesktop\\FETCH_SERVER\\DDPG_SERVER\\SimpleDDPG.py\u001b[0m in \u001b[0;36mload_model\u001b[1;34m(self)\u001b[0m\n\u001b[0;32m    170\u001b[0m \u001b[1;33m\u001b[0m\u001b[0m\n\u001b[0;32m    171\u001b[0m     \u001b[1;32mdef\u001b[0m \u001b[0mload_model\u001b[0m\u001b[1;33m(\u001b[0m\u001b[0mself\u001b[0m\u001b[1;33m)\u001b[0m\u001b[1;33m:\u001b[0m\u001b[1;33m\u001b[0m\u001b[0m\n\u001b[1;32m--> 172\u001b[1;33m         \u001b[0mself\u001b[0m\u001b[1;33m.\u001b[0m\u001b[0mActor_eval\u001b[0m \u001b[1;33m=\u001b[0m \u001b[0mtorch\u001b[0m\u001b[1;33m.\u001b[0m\u001b[0mload\u001b[0m\u001b[1;33m(\u001b[0m\u001b[1;34m\"D:/GitDesktop/FETCH_SERVER/DDPG_SERVER/ae1.pkl\"\u001b[0m\u001b[1;33m)\u001b[0m\u001b[1;33m\u001b[0m\u001b[0m\n\u001b[0m\u001b[0;32m    173\u001b[0m         \u001b[0mself\u001b[0m\u001b[1;33m.\u001b[0m\u001b[0mActor_target\u001b[0m \u001b[1;33m=\u001b[0m \u001b[0mtorch\u001b[0m\u001b[1;33m.\u001b[0m\u001b[0mload\u001b[0m\u001b[1;33m(\u001b[0m\u001b[1;34m\"D:/GitDesktop/FETCH_SERVER/DDPG_SERVER/at1.pkl\"\u001b[0m\u001b[1;33m)\u001b[0m\u001b[1;33m\u001b[0m\u001b[0m\n\u001b[0;32m    174\u001b[0m         \u001b[0mself\u001b[0m\u001b[1;33m.\u001b[0m\u001b[0mCritic_eval\u001b[0m \u001b[1;33m=\u001b[0m \u001b[0mtorch\u001b[0m\u001b[1;33m.\u001b[0m\u001b[0mload\u001b[0m\u001b[1;33m(\u001b[0m\u001b[1;34m\"D:/GitDesktop/FETCH_SERVER/DDPG_SERVER/ce1.pkl\"\u001b[0m\u001b[1;33m)\u001b[0m\u001b[1;33m\u001b[0m\u001b[0m\n",
      "\u001b[1;32md:\\annaconda\\envs\\pytorch\\lib\\site-packages\\torch\\serialization.py\u001b[0m in \u001b[0;36mload\u001b[1;34m(f, map_location, pickle_module)\u001b[0m\n\u001b[0;32m    366\u001b[0m         \u001b[0mf\u001b[0m \u001b[1;33m=\u001b[0m \u001b[0mopen\u001b[0m\u001b[1;33m(\u001b[0m\u001b[0mf\u001b[0m\u001b[1;33m,\u001b[0m \u001b[1;34m'rb'\u001b[0m\u001b[1;33m)\u001b[0m\u001b[1;33m\u001b[0m\u001b[0m\n\u001b[0;32m    367\u001b[0m     \u001b[1;32mtry\u001b[0m\u001b[1;33m:\u001b[0m\u001b[1;33m\u001b[0m\u001b[0m\n\u001b[1;32m--> 368\u001b[1;33m         \u001b[1;32mreturn\u001b[0m \u001b[0m_load\u001b[0m\u001b[1;33m(\u001b[0m\u001b[0mf\u001b[0m\u001b[1;33m,\u001b[0m \u001b[0mmap_location\u001b[0m\u001b[1;33m,\u001b[0m \u001b[0mpickle_module\u001b[0m\u001b[1;33m)\u001b[0m\u001b[1;33m\u001b[0m\u001b[0m\n\u001b[0m\u001b[0;32m    369\u001b[0m     \u001b[1;32mfinally\u001b[0m\u001b[1;33m:\u001b[0m\u001b[1;33m\u001b[0m\u001b[0m\n\u001b[0;32m    370\u001b[0m         \u001b[1;32mif\u001b[0m \u001b[0mnew_fd\u001b[0m\u001b[1;33m:\u001b[0m\u001b[1;33m\u001b[0m\u001b[0m\n",
      "\u001b[1;32md:\\annaconda\\envs\\pytorch\\lib\\site-packages\\torch\\serialization.py\u001b[0m in \u001b[0;36m_load\u001b[1;34m(f, map_location, pickle_module)\u001b[0m\n\u001b[0;32m    540\u001b[0m     \u001b[0munpickler\u001b[0m \u001b[1;33m=\u001b[0m \u001b[0mpickle_module\u001b[0m\u001b[1;33m.\u001b[0m\u001b[0mUnpickler\u001b[0m\u001b[1;33m(\u001b[0m\u001b[0mf\u001b[0m\u001b[1;33m)\u001b[0m\u001b[1;33m\u001b[0m\u001b[0m\n\u001b[0;32m    541\u001b[0m     \u001b[0munpickler\u001b[0m\u001b[1;33m.\u001b[0m\u001b[0mpersistent_load\u001b[0m \u001b[1;33m=\u001b[0m \u001b[0mpersistent_load\u001b[0m\u001b[1;33m\u001b[0m\u001b[0m\n\u001b[1;32m--> 542\u001b[1;33m     \u001b[0mresult\u001b[0m \u001b[1;33m=\u001b[0m \u001b[0munpickler\u001b[0m\u001b[1;33m.\u001b[0m\u001b[0mload\u001b[0m\u001b[1;33m(\u001b[0m\u001b[1;33m)\u001b[0m\u001b[1;33m\u001b[0m\u001b[0m\n\u001b[0m\u001b[0;32m    543\u001b[0m \u001b[1;33m\u001b[0m\u001b[0m\n\u001b[0;32m    544\u001b[0m     \u001b[0mdeserialized_storage_keys\u001b[0m \u001b[1;33m=\u001b[0m \u001b[0mpickle_module\u001b[0m\u001b[1;33m.\u001b[0m\u001b[0mload\u001b[0m\u001b[1;33m(\u001b[0m\u001b[0mf\u001b[0m\u001b[1;33m)\u001b[0m\u001b[1;33m\u001b[0m\u001b[0m\n",
      "\u001b[1;31mModuleNotFoundError\u001b[0m: No module named 'fetch_moveit_config'"
     ]
    }
   ],
   "source": [
    "from DDPG_SERVER.ddpgmain import *\n",
    "robot = Robot()\n",
    "rgb, dep = read_img_dep(file_name[np.random.randint(1, 99999)][:-4])\n",
    "position = img2xyz(rgb, dep)[0]\n",
    "robot.Box_position = position\n",
    "# robot.random_box_position()\n",
    "Box_position = robot.read_box_position()\n",
    "# Box_position = [-0.04604054586892892, 0.08798244770703123, -0.11748548030476458]\n",
    "rl = DDPG()\n",
    "rl.load_model()\n",
    "print(Box_position)\n",
    "var = 0.0\n",
    "total_rewards = []\n",
    "step_sums = []\n",
    "# 主循环\n",
    "for i in range(1, MAX_EPISODES):\n",
    "#     robot.random_box_position()\n",
    "    rgb, dep = read_img_dep(file_name[np.random.randint(1, 99999)][:-4])\n",
    "    robot.Box_position = img2xyz(rgb, dep)[0]\n",
    "    Box_position = robot.read_box_position()\n",
    "    print(\"Box_Position:\", Box_position)\n",
    "    recent_end_goal = [0.715976, 0.029221, 1.0]\n",
    "    robot.end_goal = recent_end_goal    # 末端坐标位置\n",
    "    if i % 50 == 0:\n",
    "        print(\"\\n------------------Episode:{0}------------------\".format(i))\n",
    "    st = 0\n",
    "    rw = 0\n",
    "    # print \"cube position:\", Box_position\n",
    "    # 存储夹爪距离木块的距离\n",
    "    now_dis = math.sqrt(math.pow(recent_end_goal[0] - Box_position[0], 2)\n",
    "                        + math.pow(recent_end_goal[1] - Box_position[1], 2)\n",
    "                        + math.pow(recent_end_goal[2] - Box_position[2], 2))\n",
    "    robot.dis = now_dis\n",
    "    # 读取end_goal\n",
    "    state = robot.get_state()\n",
    "    if i % 500 == 0:\n",
    "        print(\"****************memory counter:{0}****************\".format(rl.memory_counter))\n",
    "    end = time.clock()\n",
    "    begin = time.clock()\n",
    "    # 分成末端坐标和 rgbd\n",
    "    while True:\n",
    "        st += 1\n",
    "        # ------------ choose action ------------\n",
    "        s = np.array(state).reshape(1, -1)\n",
    "        goal = np.array(Box_position).reshape(1, -1)\n",
    "        x = np.concatenate((s, goal), axis=1)\n",
    "        action = rl.choose_action(x)\n",
    "        if st < 5:\n",
    "            print(\"action: \", action)\n",
    "        # ------------ -------------- ------------\n",
    "        next_state, r, done, success = robot.test_step(action, var)\n",
    "\n",
    "        # ----------- store transition -----------\n",
    "        s_next = np.array(next_state).reshape(1, -1)\n",
    "        x1 = np.concatenate((s_next, goal), axis=1)\n",
    "        rl.store_transition(x, action, r, x1)\n",
    "        # ----------- ---------------- -----------\n",
    "        if rl.memory_counter > MEMORY_CAPACITY:\n",
    "            var *= .9995\n",
    "            rl.learn()\n",
    "            if st == 1:\n",
    "                print(\".....................learn.....................\")\n",
    "        rw += r\n",
    "        state = next_state\n",
    "        if done or st >= MAX_EP_STEPS:\n",
    "            # if rl.memory_counter < 10000 and i % 50 == 0:\n",
    "            #     break\n",
    "            print(\"Step:{0}, total reward:{1}, average reward:{2}, {3}\".format(st, rw, rw*1.0/st, \"sucess\"if success else \"-----\"))\n",
    "            total_rewards.append(rw)\n",
    "            step_sums.append(st)\n",
    "            break\n",
    "    print(\"{0}\\n\".format(state))\n",
    "#     if rl.memory_counter > MEMORY_CAPACITY and i % 50 == 0:\n",
    "#         print(\"save model!\")\n",
    "#         rl.save_model()\n",
    "file_ob = open('table.txt', 'w')\n",
    "for i in total_rewards:\n",
    "    file_ob.write(str(i))\n",
    "    file_ob.write('\\n')\n",
    "file_ob.close()\n",
    "\n",
    "file_ob = open('step.txt', 'w')\n",
    "for i in step_sums:\n",
    "    file_ob.write(str(i))\n",
    "    file_ob.write('\\n')\n",
    "file_ob.close()"
   ]
  }
 ],
 "metadata": {
  "kernelspec": {
   "display_name": "Python 3",
   "language": "python",
   "name": "python3"
  },
  "language_info": {
   "codemirror_mode": {
    "name": "ipython",
    "version": 3
   },
   "file_extension": ".py",
   "mimetype": "text/x-python",
   "name": "python",
   "nbconvert_exporter": "python",
   "pygments_lexer": "ipython3",
   "version": "3.6.6"
  }
 },
 "nbformat": 4,
 "nbformat_minor": 1
}
